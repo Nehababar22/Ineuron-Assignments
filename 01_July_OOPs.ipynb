{
 "cells": [
  {
   "cell_type": "code",
   "execution_count": null,
   "id": "0dd3ae8c-d2cb-481e-9f04-01b0b7ff2e96",
   "metadata": {},
   "outputs": [],
   "source": [
    "1] What is the primary goal of Object-Oriented Programming (OOP)?\n",
    "OOPs aims to create reusable and modular code by representing real-world objects as software objects.To organize code into reusable and modular structures using classes and objects."
   ]
  },
  {
   "cell_type": "code",
   "execution_count": null,
   "id": "a24c3b92-e926-4d84-ba6a-41bdf6c0741b",
   "metadata": {},
   "outputs": [],
   "source": [
    "2] What is an object in Python?\n",
    "Objects are variables that contain data and functions that can be used to manipulate the data.Everything is in Python treated as an object, including variable, function, list, tuple, dictionary, set, etc"
   ]
  },
  {
   "cell_type": "code",
   "execution_count": null,
   "id": "77deffd8-2582-40a1-85c8-1dd97e1b533f",
   "metadata": {},
   "outputs": [],
   "source": [
    "3] What is a class in Python?\n",
    "a class is a user-defined data type that contains both the data itself and the methods that may be used to manipulate it."
   ]
  },
  {
   "cell_type": "code",
   "execution_count": null,
   "id": "0ad90f91-53be-4c89-bf7e-ae88bead17f4",
   "metadata": {},
   "outputs": [],
   "source": [
    "4] What are attributes and methods in a class?\n",
    "A variable stored in an instance or class is an attribute.\n",
    "A function stored in an instance or class is a method."
   ]
  },
  {
   "cell_type": "code",
   "execution_count": null,
   "id": "b08315a1-9d5b-4c64-a085-81992efaf935",
   "metadata": {},
   "outputs": [],
   "source": [
    "5] What is the difference between class variables and instance variables in Python?\n",
    "Class variables are useful for storing data that is shared among all instances of a class, such as constants or default values. \n",
    "Instance variables are used to store data that is unique to each instance of a class, such as object properties."
   ]
  },
  {
   "cell_type": "code",
   "execution_count": null,
   "id": "034f0e74-f172-4d6b-b830-17b3af82b30e",
   "metadata": {},
   "outputs": [],
   "source": [
    "6] What is the purpose of the self parameter in Python class methods?\n",
    "The self parameter is a reference to the current instance of the class, and is used to access variables that belongs to the class."
   ]
  },
  {
   "cell_type": "code",
   "execution_count": 8,
   "id": "379aa98c-58a1-48cb-921b-0f463f9cbfa5",
   "metadata": {},
   "outputs": [
    {
     "name": "stdout",
     "output_type": "stream",
     "text": [
      "Title: Irrfan Khan: A Life in Movies\n",
      "Author(s): Shubhra Gupta\n",
      "ISBN: 978-9381431903\n",
      "Publication Year: 2021\n",
      "Available Copies: 10\n",
      "Book 'Irrfan Khan: A Life in Movies' checked out successfully.\n",
      "Title: Irrfan Khan: A Life in Movies\n",
      "Author(s): Shubhra Gupta\n",
      "ISBN: 978-9381431903\n",
      "Publication Year: 2021\n",
      "Available Copies: 9\n",
      "Book 'Irrfan Khan: A Life in Movies' returned successfully.\n",
      "Title: Irrfan Khan: A Life in Movies\n",
      "Author(s): Shubhra Gupta\n",
      "ISBN: 978-9381431903\n",
      "Publication Year: 2021\n",
      "Available Copies: 10\n"
     ]
    }
   ],
   "source": [
    "# Book class with attributes and methods for a library management system\n",
    "class Book:\n",
    "    # Constructor to initialize the book attributes\n",
    "    def __init__(self, title, author, isbn, publication_year, available_copies):\n",
    "        self.title = title\n",
    "        self.author = author\n",
    "        self.isbn = isbn\n",
    "        self.publication_year = publication_year\n",
    "        self.available_copies = available_copies\n",
    "\n",
    "    # Method to check out a book, decrementing available copies if there are copies available\n",
    "    def check_out(self):\n",
    "        if self.available_copies > 0:\n",
    "            self.available_copies -= 1\n",
    "            print(f\"Book '{self.title}' checked out successfully.\")\n",
    "        else:\n",
    "            print(f\"Sorry, no copies of '{self.title}' are currently available.\")\n",
    "            \n",
    "    # Method to return a book, incrementing available copies\n",
    "    def return_book(self):\n",
    "        self.available_copies += 1\n",
    "        print(f\"Book '{self.title}' returned successfully.\")\n",
    "\n",
    "    # Method to display information about the book\n",
    "    def display_book_info(self):\n",
    "        print(f\"Title: {self.title}\")\n",
    "        print(f\"Author(s): {self.author}\")\n",
    "        print(f\"ISBN: {self.isbn}\")\n",
    "        print(f\"Publication Year: {self.publication_year}\")\n",
    "        print(f\"Available Copies: {self.available_copies}\")\n",
    "\n",
    "# Create an instance of the Book class and Display information about the book\n",
    "book1 = Book(\"Irrfan Khan: A Life in Movies\", \"Shubhra Gupta\", \"978-9381431903\", 2021, 10)\n",
    "book1.display_book_info()\n",
    "\n",
    "# Check out a copy of the book and display updated information\n",
    "book1.check_out()\n",
    "book1.display_book_info()\n",
    "\n",
    "# Return the book and display updated information\n",
    "book1.return_book()\n",
    "book1.display_book_info()"
   ]
  },
  {
   "cell_type": "code",
   "execution_count": 9,
   "id": "ec7084ae-a578-4fee-8bc9-4fd5357b7ad2",
   "metadata": {},
   "outputs": [
    {
     "name": "stdout",
     "output_type": "stream",
     "text": [
      "Ticket ID: 1\n",
      "Event Name: Concert\n",
      "Event Date: 2023-01-15\n",
      "Venue: Music Hall\n",
      "Seat Number: A101\n",
      "Price: $50.0\n",
      "Reservation Status: Not Reserved\n",
      "Ticket 1 reserved successfully.\n",
      "Ticket ID: 1\n",
      "Event Name: Concert\n",
      "Event Date: 2023-01-15\n",
      "Venue: Music Hall\n",
      "Seat Number: A101\n",
      "Price: $50.0\n",
      "Reservation Status: Reserved\n",
      "Reservation for Ticket 1 canceled.\n",
      "Ticket ID: 1\n",
      "Event Name: Concert\n",
      "Event Date: 2023-01-15\n",
      "Venue: Music Hall\n",
      "Seat Number: A101\n",
      "Price: $50.0\n",
      "Reservation Status: Not Reserved\n"
     ]
    }
   ],
   "source": [
    "# Class Ticket for Ticket booking system\n",
    "class Ticket:\n",
    "    def __init__(self, ticket_id, event_name, event_date, venue, seat_number, price):\n",
    "        # Initialize the Ticket object with the provided attributes\n",
    "        self.ticket_id = ticket_id\n",
    "        self.event_name = event_name\n",
    "        self.event_date = event_date\n",
    "        self.venue = venue\n",
    "        self.seat_number = seat_number\n",
    "        self.price = price\n",
    "        self.is_reserved = False\n",
    "\n",
    "    # Reserve the ticket if it is not already reserved\n",
    "    def reserve_ticket(self):\n",
    "        if not self.is_reserved:\n",
    "            self.is_reserved = True\n",
    "            print(f\"Ticket {self.ticket_id} reserved successfully.\")\n",
    "        else:\n",
    "            print(f\"Ticket {self.ticket_id} is already reserved.\")\n",
    "\n",
    "    # Cancel the reservation if the ticket is already reserved\n",
    "    def cancel_reservation(self):\n",
    "        if self.is_reserved:\n",
    "            self.is_reserved = False\n",
    "            print(f\"Reservation for Ticket {self.ticket_id} canceled.\")\n",
    "        else:\n",
    "            print(f\"Ticket {self.ticket_id} is not reserved.\")\n",
    "\n",
    "    # Display information about the ticket, including its attributes and reservation status\n",
    "    def display_ticket_info(self):\n",
    "        print(f\"Ticket ID: {self.ticket_id}\")\n",
    "        print(f\"Event Name: {self.event_name}\")\n",
    "        print(f\"Event Date: {self.event_date}\")\n",
    "        print(f\"Venue: {self.venue}\")\n",
    "        print(f\"Seat Number: {self.seat_number}\")\n",
    "        print(f\"Price: ${self.price}\")\n",
    "        print(f\"Reservation Status: {'Reserved' if self.is_reserved else 'Not Reserved'}\")\n",
    "\n",
    "ticket1 = Ticket(1, \"Concert\", \"2023-01-15\", \"Music Hall\", \"A101\", 50.0)\n",
    "ticket1.display_ticket_info()\n",
    "\n",
    "ticket1.reserve_ticket()\n",
    "ticket1.display_ticket_info()\n",
    "\n",
    "ticket1.cancel_reservation()\n",
    "ticket1.display_ticket_info()"
   ]
  },
  {
   "cell_type": "code",
   "execution_count": 10,
   "id": "c3c4eeaa-55ce-4e12-aeac-e2020862d077",
   "metadata": {},
   "outputs": [
    {
     "name": "stdout",
     "output_type": "stream",
     "text": [
      "Item 'Laptop' added to the shopping cart.\n",
      "Item 'Headphones' added to the shopping cart.\n",
      "Items in the shopping cart:\n",
      "- Laptop\n",
      "- Headphones\n",
      "Item 'Laptop' removed from the shopping cart.\n",
      "Items in the shopping cart:\n",
      "- Headphones\n",
      "Shopping cart cleared.\n",
      "The shopping cart is empty.\n"
     ]
    }
   ],
   "source": [
    "class ShoppingCart:\n",
    "    # Initialize the shopping cart with an empty list to store items.\n",
    "    def __init__(self):\n",
    "        self.items = []\n",
    "\n",
    "    # Add an item to the shopping cart.\n",
    "    def add_item(self, item):\n",
    "        self.items.append(item)\n",
    "        print(f\"Item '{item}' added to the shopping cart.\")\n",
    "\n",
    "    # Remove an item from the shopping cart if it exists.\n",
    "    def remove_item(self, item):\n",
    "        if item in self.items:\n",
    "            self.items.remove(item)\n",
    "            print(f\"Item '{item}' removed from the shopping cart.\")\n",
    "        else:\n",
    "            print(f\"Item '{item}' is not in the shopping cart.\")\n",
    "\n",
    "    # Display the items in the shopping cart.\n",
    "    def view_cart(self):\n",
    "        if not self.items:\n",
    "            print(\"The shopping cart is empty.\")\n",
    "        else:\n",
    "            print(\"Items in the shopping cart:\")\n",
    "            for item in self.items:\n",
    "                print(f\"- {item}\")\n",
    "                \n",
    "    # Clear all items from the shopping cart.\n",
    "    def clear_cart(self):\n",
    "        self.items = []\n",
    "        print(\"Shopping cart cleared.\")\n",
    "\n",
    "cart = ShoppingCart()\n",
    "\n",
    "# Add items to the cart\n",
    "cart.add_item(\"Laptop\")\n",
    "cart.add_item(\"Headphones\")\n",
    "cart.view_cart()\n",
    "\n",
    "# Remove an item from the cart\n",
    "cart.remove_item(\"Laptop\")\n",
    "cart.view_cart()\n",
    "\n",
    "# Clear the entire cart\n",
    "cart.clear_cart()\n",
    "cart.view_cart()\n"
   ]
  },
  {
   "cell_type": "code",
   "execution_count": 11,
   "id": "909bd451-6de9-4d4e-92c0-8ff68e994425",
   "metadata": {},
   "outputs": [
    {
     "name": "stdout",
     "output_type": "stream",
     "text": [
      "Attendance for John Doe on 2023-01-01 updated: present\n",
      "Attendance for John Doe on 2023-01-02 updated: absent\n",
      "Attendance for John Doe on 2023-01-03 updated: present\n",
      "John Doe's Attendance Record: {'2023-01-01': 'present', '2023-01-02': 'absent', '2023-01-03': 'present'}\n",
      "John Doe's Average Attendance: 66.67%\n"
     ]
    }
   ],
   "source": [
    "# Student class with attributes and methods for managing student information and attendance.\n",
    "class Student:\n",
    "    # Constructor to initialize student attributes.\n",
    "    def __init__(self, name, age, grade, student_id):\n",
    "        self.name = name\n",
    "        self.age = age\n",
    "        self.grade = grade\n",
    "        self.student_id = student_id\n",
    "        self.attendance = {}\n",
    "\n",
    "    # Method to update the attendance record for a given date with the provided status.\n",
    "    def update_attendance(self, date, status):\n",
    "        if date not in self.attendance:\n",
    "            self.attendance[date] = status\n",
    "            print(f\"Attendance for {self.name} on {date} updated: {status}\")\n",
    "        else:\n",
    "            print(f\"Attendance for {self.name} on {date} already recorded.\")\n",
    "\n",
    "    # Method to get the entire attendance record for the student.\n",
    "    def get_attendance(self):\n",
    "        return self.attendance\n",
    "\n",
    "    # Method to calculate and return the average attendance percentage for the student.\n",
    "    def get_average_attendance(self):\n",
    "        total_days = len(self.attendance)\n",
    "        if total_days == 0:\n",
    "            return 0.0\n",
    "        present_days = sum(1 for status in self.attendance.values() if status == 'present')\n",
    "        average_percentage = (present_days / total_days) * 100\n",
    "        return average_percentage\n",
    "\n",
    "student1 = Student(\"John Doe\", 15, 10, \"S12345\")\n",
    "\n",
    "# Update attendance records for student1.\n",
    "student1.update_attendance(\"2023-01-01\", \"present\")\n",
    "student1.update_attendance(\"2023-01-02\", \"absent\")\n",
    "student1.update_attendance(\"2023-01-03\", \"present\")\n",
    "\n",
    "# Get and print the attendance record for student1.\n",
    "attendance_record = student1.get_attendance()\n",
    "print(f\"{student1.name}'s Attendance Record: {attendance_record}\")\n",
    "\n",
    "# Calculate and print the average attendance percentage for student1.\n",
    "average_attendance = student1.get_average_attendance()\n",
    "print(f\"{student1.name}'s Average Attendance: {average_attendance:.2f}%\")\n"
   ]
  },
  {
   "cell_type": "code",
   "execution_count": null,
   "id": "3da51949-1731-43ec-91d2-bb0783c8ebb2",
   "metadata": {},
   "outputs": [],
   "source": []
  }
 ],
 "metadata": {
  "kernelspec": {
   "display_name": "Python 3 (ipykernel)",
   "language": "python",
   "name": "python3"
  },
  "language_info": {
   "codemirror_mode": {
    "name": "ipython",
    "version": 3
   },
   "file_extension": ".py",
   "mimetype": "text/x-python",
   "name": "python",
   "nbconvert_exporter": "python",
   "pygments_lexer": "ipython3",
   "version": "3.10.12"
  }
 },
 "nbformat": 4,
 "nbformat_minor": 5
}
